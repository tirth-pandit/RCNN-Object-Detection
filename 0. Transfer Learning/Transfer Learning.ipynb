{
 "cells": [
  {
   "cell_type": "code",
   "execution_count": 21,
   "metadata": {},
   "outputs": [],
   "source": [
    "import tensorflow as tf\n",
    "from tensorflow.keras.applications.vgg16 import VGG16"
   ]
  },
  {
   "cell_type": "markdown",
   "metadata": {},
   "source": [
    "### VGG Trained with imagenet "
   ]
  },
  {
   "cell_type": "code",
   "execution_count": 47,
   "metadata": {},
   "outputs": [
    {
     "name": "stdout",
     "output_type": "stream",
     "text": [
      "Model: \"vgg16\"\n",
      "_________________________________________________________________\n",
      "Layer (type)                 Output Shape              Param #   \n",
      "=================================================================\n",
      "input_11 (InputLayer)        [(None, 150, 150, 3)]     0         \n",
      "_________________________________________________________________\n",
      "block1_conv1 (Conv2D)        (None, 150, 150, 64)      1792      \n",
      "_________________________________________________________________\n",
      "block1_conv2 (Conv2D)        (None, 150, 150, 64)      36928     \n",
      "_________________________________________________________________\n",
      "block1_pool (MaxPooling2D)   (None, 75, 75, 64)        0         \n",
      "_________________________________________________________________\n",
      "block2_conv1 (Conv2D)        (None, 75, 75, 128)       73856     \n",
      "_________________________________________________________________\n",
      "block2_conv2 (Conv2D)        (None, 75, 75, 128)       147584    \n",
      "_________________________________________________________________\n",
      "block2_pool (MaxPooling2D)   (None, 37, 37, 128)       0         \n",
      "_________________________________________________________________\n",
      "block3_conv1 (Conv2D)        (None, 37, 37, 256)       295168    \n",
      "_________________________________________________________________\n",
      "block3_conv2 (Conv2D)        (None, 37, 37, 256)       590080    \n",
      "_________________________________________________________________\n",
      "block3_conv3 (Conv2D)        (None, 37, 37, 256)       590080    \n",
      "_________________________________________________________________\n",
      "block3_pool (MaxPooling2D)   (None, 18, 18, 256)       0         \n",
      "_________________________________________________________________\n",
      "block4_conv1 (Conv2D)        (None, 18, 18, 512)       1180160   \n",
      "_________________________________________________________________\n",
      "block4_conv2 (Conv2D)        (None, 18, 18, 512)       2359808   \n",
      "_________________________________________________________________\n",
      "block4_conv3 (Conv2D)        (None, 18, 18, 512)       2359808   \n",
      "_________________________________________________________________\n",
      "block4_pool (MaxPooling2D)   (None, 9, 9, 512)         0         \n",
      "_________________________________________________________________\n",
      "block5_conv1 (Conv2D)        (None, 9, 9, 512)         2359808   \n",
      "_________________________________________________________________\n",
      "block5_conv2 (Conv2D)        (None, 9, 9, 512)         2359808   \n",
      "_________________________________________________________________\n",
      "block5_conv3 (Conv2D)        (None, 9, 9, 512)         2359808   \n",
      "_________________________________________________________________\n",
      "block5_pool (MaxPooling2D)   (None, 4, 4, 512)         0         \n",
      "=================================================================\n",
      "Total params: 14,714,688\n",
      "Trainable params: 14,714,688\n",
      "Non-trainable params: 0\n",
      "_________________________________________________________________\n"
     ]
    }
   ],
   "source": [
    "cnn = VGG16(weights = 'imagenet' , include_top = False ,input_shape = (150,150,3))\n",
    "\n",
    "cnn.summary()"
   ]
  },
  {
   "cell_type": "code",
   "execution_count": 48,
   "metadata": {},
   "outputs": [],
   "source": [
    "from tensorflow.keras import models\n",
    "from tensorflow.keras import layers"
   ]
  },
  {
   "cell_type": "code",
   "execution_count": 49,
   "metadata": {},
   "outputs": [
    {
     "name": "stdout",
     "output_type": "stream",
     "text": [
      "Model: \"sequential_6\"\n",
      "_________________________________________________________________\n",
      "Layer (type)                 Output Shape              Param #   \n",
      "=================================================================\n",
      "vgg16 (Functional)           (None, 4, 4, 512)         14714688  \n",
      "_________________________________________________________________\n",
      "flatten_6 (Flatten)          (None, 8192)              0         \n",
      "_________________________________________________________________\n",
      "dense_21 (Dense)             (None, 1024)              8389632   \n",
      "_________________________________________________________________\n",
      "dense_22 (Dense)             (None, 512)               524800    \n",
      "_________________________________________________________________\n",
      "dense_23 (Dense)             (None, 2)                 1026      \n",
      "=================================================================\n",
      "Total params: 23,630,146\n",
      "Trainable params: 23,630,146\n",
      "Non-trainable params: 0\n",
      "_________________________________________________________________\n"
     ]
    }
   ],
   "source": [
    "model = models.Sequential()\n",
    "model.add(cnn) \n",
    "model.add(layers.Flatten()) \n",
    "model.add(layers.Dense(1024 , activation='relu'))\n",
    "model.add(layers.Dense(512 ,activation ='relu'))\n",
    "model.add(layers.Dense(2,activation='softmax'))\n",
    "\n",
    "model.summary()"
   ]
  },
  {
   "cell_type": "code",
   "execution_count": 50,
   "metadata": {},
   "outputs": [
    {
     "name": "stdout",
     "output_type": "stream",
     "text": [
      "Trainable weights before freezing the conv base: 32\n",
      "Trainable weights After freezing the conv base: 6\n"
     ]
    }
   ],
   "source": [
    "print('Trainable weights before freezing the conv base:', len(model.trainable_weights))\n",
    "cnn.trainable = False\n",
    "\n",
    "print('Trainable weights After freezing the conv base:', len(model.trainable_weights))\n"
   ]
  },
  {
   "cell_type": "code",
   "execution_count": 51,
   "metadata": {},
   "outputs": [
    {
     "name": "stdout",
     "output_type": "stream",
     "text": [
      "Found 400 images belonging to 2 classes.\n",
      "Found 100 images belonging to 2 classes.\n"
     ]
    }
   ],
   "source": [
    "from tensorflow.keras.preprocessing.image import ImageDataGenerator\n",
    "\n",
    "\n",
    "train_generator = ImageDataGenerator() \n",
    "\n",
    "train_data = train_generator.flow_from_directory('Train/', \n",
    "                                                 target_size=(150,150),\n",
    "                                                 color_mode='rgb',\n",
    "                                                 batch_size=32,\n",
    "                                                 class_mode='categorical',\n",
    "                                                 shuffle=True)\n",
    "\n",
    "\n",
    "\n",
    "test_generator = ImageDataGenerator() \n",
    "\n",
    "test_data = test_generator.flow_from_directory('Test/', \n",
    "                                                 target_size=(150,150),\n",
    "                                                 color_mode='rgb',\n",
    "                                                 batch_size=32,\n",
    "                                                 class_mode='categorical',\n",
    "                                                 shuffle=True)"
   ]
  },
  {
   "cell_type": "code",
   "execution_count": 53,
   "metadata": {},
   "outputs": [
    {
     "name": "stdout",
     "output_type": "stream",
     "text": [
      "Epoch 1/10\n",
      "12/12 [==============================] - 26s 2s/step - loss: 24.8306 - accuracy: 0.7147\n",
      "Epoch 2/10\n",
      "12/12 [==============================] - 27s 2s/step - loss: 1.5155 - accuracy: 0.9457\n",
      "Epoch 3/10\n",
      "12/12 [==============================] - 26s 2s/step - loss: 0.8359 - accuracy: 0.9620\n",
      "Epoch 4/10\n",
      "12/12 [==============================] - 26s 2s/step - loss: 0.3700 - accuracy: 0.9837\n",
      "Epoch 5/10\n",
      "12/12 [==============================] - 26s 2s/step - loss: 0.5165 - accuracy: 0.9918\n",
      "Epoch 6/10\n",
      "12/12 [==============================] - 26s 2s/step - loss: 0.0000e+00 - accuracy: 1.0000\n",
      "Epoch 7/10\n",
      "12/12 [==============================] - 26s 2s/step - loss: 0.0000e+00 - accuracy: 1.0000\n",
      "Epoch 8/10\n",
      "12/12 [==============================] - 26s 2s/step - loss: 6.4788e-10 - accuracy: 1.0000\n",
      "Epoch 9/10\n",
      "12/12 [==============================] - 28s 2s/step - loss: 1.5873e-08 - accuracy: 1.0000\n",
      "Epoch 10/10\n",
      "12/12 [==============================] - 29s 2s/step - loss: 2.4295e-08 - accuracy: 1.0000\n"
     ]
    },
    {
     "data": {
      "text/plain": [
       "<tensorflow.python.keras.callbacks.History at 0x7f5340555e50>"
      ]
     },
     "execution_count": 53,
     "metadata": {},
     "output_type": "execute_result"
    }
   ],
   "source": [
    "model.compile(optimizer='Adam',loss='categorical_crossentropy',metrics=['accuracy'])\n",
    "\n",
    "step_size = train_data.n // train_data.batch_size\n",
    "\n",
    "model.fit_generator(generator=train_data,\n",
    "                    steps_per_epoch=step_size,\n",
    "                    epochs=10)"
   ]
  },
  {
   "cell_type": "code",
   "execution_count": 55,
   "metadata": {},
   "outputs": [
    {
     "name": "stdout",
     "output_type": "stream",
     "text": [
      "Accuracy : 0.9399999976158142\n"
     ]
    }
   ],
   "source": [
    "loss , accuracy = model.evaluate(test_data, verbose=0)\n",
    "print('Accuracy : ' + str(accuracy))"
   ]
  },
  {
   "cell_type": "markdown",
   "metadata": {},
   "source": [
    "### Fine Tuning "
   ]
  },
  {
   "cell_type": "code",
   "execution_count": 57,
   "metadata": {},
   "outputs": [],
   "source": [
    "cnn.trainable = True\n",
    "\n",
    "flag = False\n",
    "\n",
    "for layer in cnn.layers:\n",
    "    if layer.name == 'block5_conv1':\n",
    "        flag = True\n",
    "    \n",
    "    if flag:\n",
    "        layer.trainable = True\n",
    "    else:\n",
    "        layer.trainable = False"
   ]
  },
  {
   "cell_type": "code",
   "execution_count": 59,
   "metadata": {},
   "outputs": [
    {
     "name": "stderr",
     "output_type": "stream",
     "text": [
      "/home/tirth/.local/lib/python3.8/site-packages/tensorflow/python/keras/engine/training.py:1940: UserWarning: `Model.fit_generator` is deprecated and will be removed in a future version. Please use `Model.fit`, which supports generators.\n",
      "  warnings.warn('`Model.fit_generator` is deprecated and '\n"
     ]
    },
    {
     "name": "stdout",
     "output_type": "stream",
     "text": [
      "Epoch 1/10\n",
      "12/12 [==============================] - 31s 3s/step - loss: 51.2614 - accuracy: 0.8533\n",
      "Epoch 2/10\n",
      "12/12 [==============================] - 32s 3s/step - loss: 9.5569 - accuracy: 0.5788\n",
      "Epoch 3/10\n",
      "12/12 [==============================] - 31s 3s/step - loss: 101.3668 - accuracy: 0.5082\n",
      "Epoch 4/10\n",
      "12/12 [==============================] - 31s 3s/step - loss: 4.4808 - accuracy: 0.4918\n",
      "Epoch 5/10\n",
      "12/12 [==============================] - 31s 3s/step - loss: 0.6932 - accuracy: 0.5054\n",
      "Epoch 6/10\n",
      "12/12 [==============================] - 31s 3s/step - loss: 0.6932 - accuracy: 0.5000\n",
      "Epoch 7/10\n",
      "12/12 [==============================] - 32s 3s/step - loss: 0.6932 - accuracy: 0.4918\n",
      "Epoch 8/10\n",
      "12/12 [==============================] - 31s 3s/step - loss: 0.6932 - accuracy: 0.4674\n",
      "Epoch 9/10\n",
      "12/12 [==============================] - 31s 3s/step - loss: 0.6932 - accuracy: 0.4728\n",
      "Epoch 10/10\n",
      "12/12 [==============================] - 34s 3s/step - loss: 0.6932 - accuracy: 0.4810\n"
     ]
    },
    {
     "data": {
      "text/plain": [
       "<tensorflow.python.keras.callbacks.History at 0x7f530f7d14c0>"
      ]
     },
     "execution_count": 59,
     "metadata": {},
     "output_type": "execute_result"
    }
   ],
   "source": [
    "model.compile(optimizer='Adam',loss='categorical_crossentropy',metrics=['accuracy'])\n",
    "\n",
    "step_size = train_data.n // train_data.batch_size\n",
    "\n",
    "model.fit_generator(generator=train_data,\n",
    "                    steps_per_epoch=step_size,\n",
    "                    epochs=10)"
   ]
  },
  {
   "cell_type": "code",
   "execution_count": 60,
   "metadata": {},
   "outputs": [
    {
     "name": "stdout",
     "output_type": "stream",
     "text": [
      "Accuracy : 0.5\n"
     ]
    }
   ],
   "source": [
    "loss , accuracy = model.evaluate(test_data, verbose=0)\n",
    "print('Accuracy : ' + str(accuracy))"
   ]
  },
  {
   "cell_type": "code",
   "execution_count": null,
   "metadata": {},
   "outputs": [],
   "source": []
  }
 ],
 "metadata": {
  "kernelspec": {
   "display_name": "Python 3",
   "language": "python",
   "name": "python3"
  },
  "language_info": {
   "codemirror_mode": {
    "name": "ipython",
    "version": 3
   },
   "file_extension": ".py",
   "mimetype": "text/x-python",
   "name": "python",
   "nbconvert_exporter": "python",
   "pygments_lexer": "ipython3",
   "version": "3.8.5"
  }
 },
 "nbformat": 4,
 "nbformat_minor": 4
}
